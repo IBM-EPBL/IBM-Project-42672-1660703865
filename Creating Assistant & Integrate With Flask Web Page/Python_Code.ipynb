{
  "nbformat": 4,
  "nbformat_minor": 0,
  "metadata": {
    "colab": {
      "provenance": []
    },
    "kernelspec": {
      "name": "python3",
      "display_name": "Python 3"
    },
    "language_info": {
      "name": "python"
    }
  },
  "cells": [
    {
      "cell_type": "markdown",
      "source": [
        "### **Build Python Code**"
      ],
      "metadata": {
        "id": "ZCVCYHoXrKJJ"
      }
    },
    {
      "cell_type": "code",
      "source": [
        "\n",
        "\n",
        "from flask import Flask,render_template\n",
        "\n",
        "app=Flask(__name__,template_folder='template')\n",
        "\n",
        "\n",
        "@app.route(\"/\")\n",
        "def home():\n",
        "    return render_template('bot.html')\n",
        "\n",
        "\n",
        "\n",
        "if __name__==\"__main__\":\n",
        "    app.run(debug=True)"
      ],
      "metadata": {
        "id": "nfSSRAEArQ0M"
      },
      "execution_count": null,
      "outputs": []
    }
  ]
}